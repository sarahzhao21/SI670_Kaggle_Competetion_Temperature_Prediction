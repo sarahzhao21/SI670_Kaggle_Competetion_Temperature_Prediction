{
 "cells": [
  {
   "cell_type": "markdown",
   "metadata": {},
   "source": [
    "## Kaggle Task1 Predicting/estimating the temperature of Trout Lake at depth 10.5 m during Apr 20th, 2018 - Apr 19th, 2019. "
   ]
  },
  {
   "cell_type": "code",
   "execution_count": 28,
   "metadata": {},
   "outputs": [],
   "source": [
    "%matplotlib inline\n",
    "import numpy as np\n",
    "import pandas as pd\n",
    "import matplotlib.pyplot as plt\n",
    "from sklearn.model_selection import train_test_split\n",
    "from sklearn.metrics import mean_squared_error"
   ]
  },
  {
   "cell_type": "code",
   "execution_count": 29,
   "metadata": {},
   "outputs": [],
   "source": [
    "import warnings\n",
    "warnings.filterwarnings(\"ignore\")"
   ]
  },
  {
   "cell_type": "code",
   "execution_count": 30,
   "metadata": {},
   "outputs": [],
   "source": [
    "train = pd.read_csv('Trout_training.csv')"
   ]
  },
  {
   "cell_type": "code",
   "execution_count": 31,
   "metadata": {},
   "outputs": [],
   "source": [
    "test = pd.read_csv('Trout_testing_features.csv')"
   ]
  },
  {
   "cell_type": "code",
   "execution_count": 32,
   "metadata": {},
   "outputs": [
    {
     "data": {
      "text/plain": [
       "str"
      ]
     },
     "execution_count": 32,
     "metadata": {},
     "output_type": "execute_result"
    }
   ],
   "source": [
    "type(train.iloc[2].Date_Time)"
   ]
  },
  {
   "cell_type": "code",
   "execution_count": 33,
   "metadata": {},
   "outputs": [],
   "source": [
    "train_sensor = train.pivot(index='Date_Time', columns='Depth_m', values='Water_Temp_C')"
   ]
  },
  {
   "cell_type": "code",
   "execution_count": 34,
   "metadata": {},
   "outputs": [],
   "source": [
    "features = list(train_sensor.columns)"
   ]
  },
  {
   "cell_type": "code",
   "execution_count": 35,
   "metadata": {},
   "outputs": [],
   "source": [
    "from sklearn.impute import SimpleImputer\n",
    "imp = SimpleImputer(missing_values=np.nan, strategy='mean')\n",
    "imp = imp.fit(train_sensor[features])\n",
    "train_sensor[features]=imp.transform(train_sensor[features])\n",
    "train_sensor[features]=train_sensor[features].round(3)"
   ]
  },
  {
   "cell_type": "code",
   "execution_count": 36,
   "metadata": {},
   "outputs": [
    {
     "data": {
      "text/html": [
       "<div>\n",
       "<style scoped>\n",
       "    .dataframe tbody tr th:only-of-type {\n",
       "        vertical-align: middle;\n",
       "    }\n",
       "\n",
       "    .dataframe tbody tr th {\n",
       "        vertical-align: top;\n",
       "    }\n",
       "\n",
       "    .dataframe thead th {\n",
       "        text-align: right;\n",
       "    }\n",
       "</style>\n",
       "<table border=\"1\" class=\"dataframe\">\n",
       "  <thead>\n",
       "    <tr style=\"text-align: right;\">\n",
       "      <th>Depth_m</th>\n",
       "      <th>1.5</th>\n",
       "      <th>2.5</th>\n",
       "      <th>3.5</th>\n",
       "      <th>4.5</th>\n",
       "      <th>5.5</th>\n",
       "      <th>6.5</th>\n",
       "      <th>7.5</th>\n",
       "      <th>8.5</th>\n",
       "      <th>9.5</th>\n",
       "      <th>10.5</th>\n",
       "      <th>11.5</th>\n",
       "      <th>12.5</th>\n",
       "      <th>14.5</th>\n",
       "      <th>16.5</th>\n",
       "      <th>18.5</th>\n",
       "      <th>20.5</th>\n",
       "    </tr>\n",
       "    <tr>\n",
       "      <th>Date_Time</th>\n",
       "      <th></th>\n",
       "      <th></th>\n",
       "      <th></th>\n",
       "      <th></th>\n",
       "      <th></th>\n",
       "      <th></th>\n",
       "      <th></th>\n",
       "      <th></th>\n",
       "      <th></th>\n",
       "      <th></th>\n",
       "      <th></th>\n",
       "      <th></th>\n",
       "      <th></th>\n",
       "      <th></th>\n",
       "      <th></th>\n",
       "      <th></th>\n",
       "    </tr>\n",
       "  </thead>\n",
       "  <tbody>\n",
       "    <tr>\n",
       "      <th>2012-04-20 00:00:00</th>\n",
       "      <td>5.257</td>\n",
       "      <td>5.257</td>\n",
       "      <td>5.257</td>\n",
       "      <td>5.205</td>\n",
       "      <td>5.205</td>\n",
       "      <td>5.154</td>\n",
       "      <td>5.231</td>\n",
       "      <td>5.128</td>\n",
       "      <td>5.102</td>\n",
       "      <td>5.076</td>\n",
       "      <td>4.792</td>\n",
       "      <td>4.818</td>\n",
       "      <td>4.766</td>\n",
       "      <td>4.792</td>\n",
       "      <td>4.792</td>\n",
       "      <td>4.818</td>\n",
       "    </tr>\n",
       "    <tr>\n",
       "      <th>2012-04-20 01:00:00</th>\n",
       "      <td>5.205</td>\n",
       "      <td>5.231</td>\n",
       "      <td>5.231</td>\n",
       "      <td>5.179</td>\n",
       "      <td>5.205</td>\n",
       "      <td>5.154</td>\n",
       "      <td>5.231</td>\n",
       "      <td>5.128</td>\n",
       "      <td>5.024</td>\n",
       "      <td>4.999</td>\n",
       "      <td>4.792</td>\n",
       "      <td>4.818</td>\n",
       "      <td>4.766</td>\n",
       "      <td>4.792</td>\n",
       "      <td>4.792</td>\n",
       "      <td>4.792</td>\n",
       "    </tr>\n",
       "    <tr>\n",
       "      <th>2012-04-20 02:00:00</th>\n",
       "      <td>5.231</td>\n",
       "      <td>5.231</td>\n",
       "      <td>5.231</td>\n",
       "      <td>5.154</td>\n",
       "      <td>5.179</td>\n",
       "      <td>5.128</td>\n",
       "      <td>5.154</td>\n",
       "      <td>4.973</td>\n",
       "      <td>4.895</td>\n",
       "      <td>4.895</td>\n",
       "      <td>4.792</td>\n",
       "      <td>4.792</td>\n",
       "      <td>4.740</td>\n",
       "      <td>4.792</td>\n",
       "      <td>4.792</td>\n",
       "      <td>4.792</td>\n",
       "    </tr>\n",
       "    <tr>\n",
       "      <th>2012-04-20 03:00:00</th>\n",
       "      <td>5.205</td>\n",
       "      <td>5.231</td>\n",
       "      <td>5.205</td>\n",
       "      <td>5.154</td>\n",
       "      <td>5.154</td>\n",
       "      <td>5.102</td>\n",
       "      <td>5.128</td>\n",
       "      <td>4.999</td>\n",
       "      <td>4.895</td>\n",
       "      <td>4.921</td>\n",
       "      <td>4.766</td>\n",
       "      <td>4.818</td>\n",
       "      <td>4.766</td>\n",
       "      <td>4.792</td>\n",
       "      <td>4.792</td>\n",
       "      <td>4.766</td>\n",
       "    </tr>\n",
       "    <tr>\n",
       "      <th>2012-04-20 04:00:00</th>\n",
       "      <td>5.205</td>\n",
       "      <td>5.231</td>\n",
       "      <td>5.154</td>\n",
       "      <td>5.050</td>\n",
       "      <td>5.050</td>\n",
       "      <td>4.999</td>\n",
       "      <td>5.076</td>\n",
       "      <td>4.999</td>\n",
       "      <td>4.947</td>\n",
       "      <td>4.973</td>\n",
       "      <td>4.818</td>\n",
       "      <td>4.844</td>\n",
       "      <td>4.792</td>\n",
       "      <td>4.792</td>\n",
       "      <td>4.792</td>\n",
       "      <td>4.766</td>\n",
       "    </tr>\n",
       "  </tbody>\n",
       "</table>\n",
       "</div>"
      ],
      "text/plain": [
       "Depth_m               1.5    2.5    3.5    4.5    5.5    6.5    7.5    8.5   \\\n",
       "Date_Time                                                                     \n",
       "2012-04-20 00:00:00  5.257  5.257  5.257  5.205  5.205  5.154  5.231  5.128   \n",
       "2012-04-20 01:00:00  5.205  5.231  5.231  5.179  5.205  5.154  5.231  5.128   \n",
       "2012-04-20 02:00:00  5.231  5.231  5.231  5.154  5.179  5.128  5.154  4.973   \n",
       "2012-04-20 03:00:00  5.205  5.231  5.205  5.154  5.154  5.102  5.128  4.999   \n",
       "2012-04-20 04:00:00  5.205  5.231  5.154  5.050  5.050  4.999  5.076  4.999   \n",
       "\n",
       "Depth_m               9.5    10.5   11.5   12.5   14.5   16.5   18.5   20.5  \n",
       "Date_Time                                                                    \n",
       "2012-04-20 00:00:00  5.102  5.076  4.792  4.818  4.766  4.792  4.792  4.818  \n",
       "2012-04-20 01:00:00  5.024  4.999  4.792  4.818  4.766  4.792  4.792  4.792  \n",
       "2012-04-20 02:00:00  4.895  4.895  4.792  4.792  4.740  4.792  4.792  4.792  \n",
       "2012-04-20 03:00:00  4.895  4.921  4.766  4.818  4.766  4.792  4.792  4.766  \n",
       "2012-04-20 04:00:00  4.947  4.973  4.818  4.844  4.792  4.792  4.792  4.766  "
      ]
     },
     "execution_count": 36,
     "metadata": {},
     "output_type": "execute_result"
    }
   ],
   "source": [
    "train_sensor.head()"
   ]
  },
  {
   "cell_type": "code",
   "execution_count": 37,
   "metadata": {},
   "outputs": [
    {
     "data": {
      "text/plain": [
       "(52515, 16)"
      ]
     },
     "execution_count": 37,
     "metadata": {},
     "output_type": "execute_result"
    }
   ],
   "source": [
    "train_sensor.dropna()\n",
    "train_sensor.shape"
   ]
  },
  {
   "cell_type": "code",
   "execution_count": 38,
   "metadata": {},
   "outputs": [],
   "source": [
    "test_sensor = test.pivot(index='Date_Time', columns='Depth_m', values='Water_Temp_C')"
   ]
  },
  {
   "cell_type": "code",
   "execution_count": 39,
   "metadata": {},
   "outputs": [],
   "source": [
    "feature_t = list(test_sensor.columns)"
   ]
  },
  {
   "cell_type": "code",
   "execution_count": 40,
   "metadata": {},
   "outputs": [],
   "source": [
    "imp2 = SimpleImputer(missing_values=np.nan, strategy='mean')\n",
    "imp2 = imp2.fit(test_sensor[feature_t])\n",
    "test_sensor[feature_t]=imp2.transform(test_sensor[feature_t])\n",
    "test_sensor[feature_t]=test_sensor[feature_t].round(3)"
   ]
  },
  {
   "cell_type": "code",
   "execution_count": 41,
   "metadata": {},
   "outputs": [
    {
     "data": {
      "text/plain": [
       "(8760, 15)"
      ]
     },
     "execution_count": 41,
     "metadata": {},
     "output_type": "execute_result"
    }
   ],
   "source": [
    "test_sensor.dropna()\n",
    "test_sensor.shape"
   ]
  },
  {
   "cell_type": "code",
   "execution_count": 42,
   "metadata": {},
   "outputs": [],
   "source": [
    "X = train_sensor[[1.5,  2.5,  3.5,  4.5,  5.5,  6.5,  7.5,  8.5,  9.5, 11.5,\n",
    "              12.5, 14.5, 16.5, 18.5, 20.5]]\n",
    "y = train_sensor[[10.5]]"
   ]
  },
  {
   "cell_type": "code",
   "execution_count": 43,
   "metadata": {},
   "outputs": [],
   "source": [
    "X_train, X_test, y_train, y_test = train_test_split(X, y, random_state=0)"
   ]
  },
  {
   "cell_type": "code",
   "execution_count": 44,
   "metadata": {},
   "outputs": [],
   "source": [
    "from sklearn.preprocessing import MinMaxScaler\n",
    "scaler = MinMaxScaler()\n",
    "X_train_scaled = scaler.fit_transform(X_train)\n",
    "X_test_scaled = scaler.transform(X_test)\n",
    "X_scaled = scaler.fit_transform(X)\n"
   ]
  },
  {
   "cell_type": "code",
   "execution_count": 45,
   "metadata": {},
   "outputs": [],
   "source": [
    "from sklearn.preprocessing import PolynomialFeatures\n",
    "poly = PolynomialFeatures(degree=3)\n",
    "X_poly = poly.fit_transform(X_scaled)"
   ]
  },
  {
   "cell_type": "code",
   "execution_count": 46,
   "metadata": {},
   "outputs": [],
   "source": [
    "test_sensor_scaled = scaler.transform(test_sensor)"
   ]
  },
  {
   "cell_type": "code",
   "execution_count": 47,
   "metadata": {},
   "outputs": [],
   "source": [
    "test_poly = poly.fit_transform(test_sensor_scaled)"
   ]
  },
  {
   "cell_type": "code",
   "execution_count": null,
   "metadata": {},
   "outputs": [],
   "source": []
  },
  {
   "cell_type": "markdown",
   "metadata": {},
   "source": [
    "SVR"
   ]
  },
  {
   "cell_type": "code",
   "execution_count": 235,
   "metadata": {},
   "outputs": [],
   "source": [
    "from sklearn import svm\n",
    "#reg = svm.SVR()\n",
    "#reg.fit(X_train_scaled, y_train)"
   ]
  },
  {
   "cell_type": "code",
   "execution_count": 201,
   "metadata": {},
   "outputs": [],
   "source": [
    "#reg.score(X_train_scaled, y_train)"
   ]
  },
  {
   "cell_type": "code",
   "execution_count": 202,
   "metadata": {},
   "outputs": [],
   "source": [
    "#reg.score(X_test_scaled, y_test)"
   ]
  },
  {
   "cell_type": "code",
   "execution_count": 203,
   "metadata": {},
   "outputs": [],
   "source": [
    "#y_pred_s = reg.predict(X_test_scaled)\n",
    "#mean_squared_error(y_test,y_pred_s)"
   ]
  },
  {
   "cell_type": "markdown",
   "metadata": {},
   "source": [
    "#### SVR tune"
   ]
  },
  {
   "cell_type": "code",
   "execution_count": 204,
   "metadata": {},
   "outputs": [
    {
     "data": {
      "text/plain": [
       "\"\\nfrom sklearn.model_selection import cross_val_score\\nimport operator\\nscores = {}\\n\\nfor this_gamma in 10**np.linspace(-2, 2, 5):\\n    for this_C in 10**np.linspace(-2, 2, 5):\\n        svr = svm.SVR(kernel='rbf', gamma=this_gamma, C=this_C)\\n        scores[(this_gamma, this_C)] = np.mean(cross_val_score(svr, X_train_scaled, y_train, cv=5))\\n    \\nbest_gamma, best_C = max(scores.items(), key=operator.itemgetter(1))[0]\\nsvr = svm.SVR(kernel='rbf', gamma=best_gamma, C=best_C).fit(X_train_scaled, y_train)\\n\""
      ]
     },
     "execution_count": 204,
     "metadata": {},
     "output_type": "execute_result"
    }
   ],
   "source": [
    "'''\n",
    "from sklearn.model_selection import cross_val_score\n",
    "import operator\n",
    "scores = {}\n",
    "\n",
    "for this_gamma in 10**np.linspace(-2, 2, 5):\n",
    "    for this_C in 10**np.linspace(-2, 2, 5):\n",
    "        svr = svm.SVR(kernel='rbf', gamma=this_gamma, C=this_C)\n",
    "        scores[(this_gamma, this_C)] = np.mean(cross_val_score(svr, X_train_scaled, y_train, cv=5))\n",
    "    \n",
    "best_gamma, best_C = max(scores.items(), key=operator.itemgetter(1))[0]\n",
    "svr = svm.SVR(kernel='rbf', gamma=best_gamma, C=best_C).fit(X_train_scaled, y_train)\n",
    "'''"
   ]
  },
  {
   "cell_type": "code",
   "execution_count": 205,
   "metadata": {},
   "outputs": [
    {
     "data": {
      "text/plain": [
       "\"\\nprint('Best gamma: {}'.format(best_gamma))\\nprint('Best C: {}'.format(best_C))\\nprint('Training accuracy: {}'.format(svr.score(X_train_scaled, y_train)))\\nprint('Test accuracy: {}'.format(svr.score(X_test_scaled, y_test)))\\n\""
      ]
     },
     "execution_count": 205,
     "metadata": {},
     "output_type": "execute_result"
    }
   ],
   "source": [
    "'''\n",
    "print('Best gamma: {}'.format(best_gamma))\n",
    "print('Best C: {}'.format(best_C))\n",
    "print('Training accuracy: {}'.format(svr.score(X_train_scaled, y_train)))\n",
    "print('Test accuracy: {}'.format(svr.score(X_test_scaled, y_test)))\n",
    "'''"
   ]
  },
  {
   "cell_type": "markdown",
   "metadata": {},
   "source": [
    "Best gamma: 10.0\n",
    "Best C: 100.0\n",
    "Training accuracy: 0.9985229107586874\n",
    "Test accuracy: 0.9975761121899951"
   ]
  },
  {
   "cell_type": "code",
   "execution_count": null,
   "metadata": {},
   "outputs": [],
   "source": [
    "#svr = svm.SVR(kernel='linear', gamma=10.0, C=100).fit(X_poly, y)"
   ]
  },
  {
   "cell_type": "code",
   "execution_count": 207,
   "metadata": {},
   "outputs": [
    {
     "data": {
      "text/plain": [
       "0.023494567361860202"
      ]
     },
     "execution_count": 207,
     "metadata": {},
     "output_type": "execute_result"
    }
   ],
   "source": [
    "#y_pred_svr = svr.predict(X_test_scaled)\n",
    "#mean_squared_error(y_test,y_pred_svr)"
   ]
  },
  {
   "cell_type": "code",
   "execution_count": 257,
   "metadata": {},
   "outputs": [
    {
     "data": {
      "text/plain": [
       "0.9988552302877475"
      ]
     },
     "execution_count": 257,
     "metadata": {},
     "output_type": "execute_result"
    }
   ],
   "source": [
    "#svr.score(X_poly, y)"
   ]
  },
  {
   "cell_type": "code",
   "execution_count": 209,
   "metadata": {},
   "outputs": [
    {
     "data": {
      "text/plain": [
       "0.9975761121899951"
      ]
     },
     "execution_count": 209,
     "metadata": {},
     "output_type": "execute_result"
    }
   ],
   "source": [
    "#svr.score(X_test_scaled, y_test)"
   ]
  },
  {
   "cell_type": "code",
   "execution_count": 287,
   "metadata": {},
   "outputs": [],
   "source": [
    "test_sensor =  test_sensor.drop(columns=['Predict'])"
   ]
  },
  {
   "cell_type": "code",
   "execution_count": 262,
   "metadata": {},
   "outputs": [],
   "source": [
    "test_predict=svr.predict(test_poly)"
   ]
  },
  {
   "cell_type": "code",
   "execution_count": 263,
   "metadata": {},
   "outputs": [
    {
     "data": {
      "text/plain": [
       "array([1.47284523, 1.47284523, 1.47258691, ..., 3.69844363, 3.70744998,\n",
       "       3.70417493])"
      ]
     },
     "execution_count": 263,
     "metadata": {},
     "output_type": "execute_result"
    }
   ],
   "source": [
    "test_predict"
   ]
  },
  {
   "cell_type": "code",
   "execution_count": 264,
   "metadata": {},
   "outputs": [
    {
     "data": {
      "text/plain": [
       "8760"
      ]
     },
     "execution_count": 264,
     "metadata": {},
     "output_type": "execute_result"
    }
   ],
   "source": [
    "len(test_predict)"
   ]
  },
  {
   "cell_type": "code",
   "execution_count": 265,
   "metadata": {},
   "outputs": [],
   "source": [
    "test_sensor['Predict']=test_predict"
   ]
  },
  {
   "cell_type": "code",
   "execution_count": 266,
   "metadata": {
    "scrolled": true
   },
   "outputs": [
    {
     "data": {
      "text/html": [
       "<div>\n",
       "<style scoped>\n",
       "    .dataframe tbody tr th:only-of-type {\n",
       "        vertical-align: middle;\n",
       "    }\n",
       "\n",
       "    .dataframe tbody tr th {\n",
       "        vertical-align: top;\n",
       "    }\n",
       "\n",
       "    .dataframe thead th {\n",
       "        text-align: right;\n",
       "    }\n",
       "</style>\n",
       "<table border=\"1\" class=\"dataframe\">\n",
       "  <thead>\n",
       "    <tr style=\"text-align: right;\">\n",
       "      <th>Depth_m</th>\n",
       "      <th>1.5</th>\n",
       "      <th>2.5</th>\n",
       "      <th>3.5</th>\n",
       "      <th>4.5</th>\n",
       "      <th>5.5</th>\n",
       "      <th>6.5</th>\n",
       "      <th>7.5</th>\n",
       "      <th>8.5</th>\n",
       "      <th>9.5</th>\n",
       "      <th>11.5</th>\n",
       "      <th>12.5</th>\n",
       "      <th>14.5</th>\n",
       "      <th>16.5</th>\n",
       "      <th>18.5</th>\n",
       "      <th>20.5</th>\n",
       "      <th>Predict</th>\n",
       "    </tr>\n",
       "    <tr>\n",
       "      <th>Date_Time</th>\n",
       "      <th></th>\n",
       "      <th></th>\n",
       "      <th></th>\n",
       "      <th></th>\n",
       "      <th></th>\n",
       "      <th></th>\n",
       "      <th></th>\n",
       "      <th></th>\n",
       "      <th></th>\n",
       "      <th></th>\n",
       "      <th></th>\n",
       "      <th></th>\n",
       "      <th></th>\n",
       "      <th></th>\n",
       "      <th></th>\n",
       "      <th></th>\n",
       "    </tr>\n",
       "  </thead>\n",
       "  <tbody>\n",
       "    <tr>\n",
       "      <th>2018-04-20 00:00:00</th>\n",
       "      <td>0.412</td>\n",
       "      <td>0.852</td>\n",
       "      <td>0.907</td>\n",
       "      <td>0.962</td>\n",
       "      <td>1.071</td>\n",
       "      <td>0.989</td>\n",
       "      <td>1.289</td>\n",
       "      <td>1.289</td>\n",
       "      <td>1.453</td>\n",
       "      <td>1.561</td>\n",
       "      <td>1.534</td>\n",
       "      <td>1.724</td>\n",
       "      <td>1.805</td>\n",
       "      <td>2.155</td>\n",
       "      <td>2.503</td>\n",
       "      <td>1.472845</td>\n",
       "    </tr>\n",
       "    <tr>\n",
       "      <th>2018-04-20 01:00:00</th>\n",
       "      <td>0.412</td>\n",
       "      <td>0.852</td>\n",
       "      <td>0.907</td>\n",
       "      <td>0.962</td>\n",
       "      <td>1.071</td>\n",
       "      <td>0.989</td>\n",
       "      <td>1.289</td>\n",
       "      <td>1.289</td>\n",
       "      <td>1.453</td>\n",
       "      <td>1.561</td>\n",
       "      <td>1.534</td>\n",
       "      <td>1.724</td>\n",
       "      <td>1.805</td>\n",
       "      <td>2.155</td>\n",
       "      <td>2.503</td>\n",
       "      <td>1.472845</td>\n",
       "    </tr>\n",
       "    <tr>\n",
       "      <th>2018-04-20 02:00:00</th>\n",
       "      <td>0.412</td>\n",
       "      <td>0.852</td>\n",
       "      <td>0.907</td>\n",
       "      <td>0.962</td>\n",
       "      <td>1.071</td>\n",
       "      <td>0.989</td>\n",
       "      <td>1.289</td>\n",
       "      <td>1.289</td>\n",
       "      <td>1.453</td>\n",
       "      <td>1.561</td>\n",
       "      <td>1.534</td>\n",
       "      <td>1.724</td>\n",
       "      <td>1.778</td>\n",
       "      <td>2.155</td>\n",
       "      <td>2.503</td>\n",
       "      <td>1.472587</td>\n",
       "    </tr>\n",
       "    <tr>\n",
       "      <th>2018-04-20 03:00:00</th>\n",
       "      <td>0.412</td>\n",
       "      <td>0.852</td>\n",
       "      <td>0.907</td>\n",
       "      <td>0.962</td>\n",
       "      <td>1.071</td>\n",
       "      <td>0.989</td>\n",
       "      <td>1.289</td>\n",
       "      <td>1.289</td>\n",
       "      <td>1.453</td>\n",
       "      <td>1.561</td>\n",
       "      <td>1.534</td>\n",
       "      <td>1.724</td>\n",
       "      <td>1.778</td>\n",
       "      <td>2.155</td>\n",
       "      <td>2.503</td>\n",
       "      <td>1.472587</td>\n",
       "    </tr>\n",
       "    <tr>\n",
       "      <th>2018-04-20 04:00:00</th>\n",
       "      <td>0.412</td>\n",
       "      <td>0.852</td>\n",
       "      <td>0.907</td>\n",
       "      <td>0.962</td>\n",
       "      <td>1.071</td>\n",
       "      <td>0.989</td>\n",
       "      <td>1.289</td>\n",
       "      <td>1.289</td>\n",
       "      <td>1.453</td>\n",
       "      <td>1.561</td>\n",
       "      <td>1.534</td>\n",
       "      <td>1.724</td>\n",
       "      <td>1.778</td>\n",
       "      <td>2.155</td>\n",
       "      <td>2.503</td>\n",
       "      <td>1.472587</td>\n",
       "    </tr>\n",
       "  </tbody>\n",
       "</table>\n",
       "</div>"
      ],
      "text/plain": [
       "Depth_m                1.5    2.5    3.5    4.5    5.5    6.5    7.5    8.5  \\\n",
       "Date_Time                                                                     \n",
       "2018-04-20 00:00:00  0.412  0.852  0.907  0.962  1.071  0.989  1.289  1.289   \n",
       "2018-04-20 01:00:00  0.412  0.852  0.907  0.962  1.071  0.989  1.289  1.289   \n",
       "2018-04-20 02:00:00  0.412  0.852  0.907  0.962  1.071  0.989  1.289  1.289   \n",
       "2018-04-20 03:00:00  0.412  0.852  0.907  0.962  1.071  0.989  1.289  1.289   \n",
       "2018-04-20 04:00:00  0.412  0.852  0.907  0.962  1.071  0.989  1.289  1.289   \n",
       "\n",
       "Depth_m                9.5   11.5   12.5   14.5   16.5   18.5   20.5   Predict  \n",
       "Date_Time                                                                       \n",
       "2018-04-20 00:00:00  1.453  1.561  1.534  1.724  1.805  2.155  2.503  1.472845  \n",
       "2018-04-20 01:00:00  1.453  1.561  1.534  1.724  1.805  2.155  2.503  1.472845  \n",
       "2018-04-20 02:00:00  1.453  1.561  1.534  1.724  1.778  2.155  2.503  1.472587  \n",
       "2018-04-20 03:00:00  1.453  1.561  1.534  1.724  1.778  2.155  2.503  1.472587  \n",
       "2018-04-20 04:00:00  1.453  1.561  1.534  1.724  1.778  2.155  2.503  1.472587  "
      ]
     },
     "execution_count": 266,
     "metadata": {},
     "output_type": "execute_result"
    }
   ],
   "source": [
    "test_sensor.head()"
   ]
  },
  {
   "cell_type": "code",
   "execution_count": 267,
   "metadata": {},
   "outputs": [
    {
     "data": {
      "text/html": [
       "<div>\n",
       "<style scoped>\n",
       "    .dataframe tbody tr th:only-of-type {\n",
       "        vertical-align: middle;\n",
       "    }\n",
       "\n",
       "    .dataframe tbody tr th {\n",
       "        vertical-align: top;\n",
       "    }\n",
       "\n",
       "    .dataframe thead th {\n",
       "        text-align: right;\n",
       "    }\n",
       "</style>\n",
       "<table border=\"1\" class=\"dataframe\">\n",
       "  <thead>\n",
       "    <tr style=\"text-align: right;\">\n",
       "      <th>Depth_m</th>\n",
       "      <th>Predict</th>\n",
       "    </tr>\n",
       "    <tr>\n",
       "      <th>Date_Time</th>\n",
       "      <th></th>\n",
       "    </tr>\n",
       "  </thead>\n",
       "  <tbody>\n",
       "    <tr>\n",
       "      <th>2018-04-20 00:00:00</th>\n",
       "      <td>1.472845</td>\n",
       "    </tr>\n",
       "    <tr>\n",
       "      <th>2018-04-20 01:00:00</th>\n",
       "      <td>1.472845</td>\n",
       "    </tr>\n",
       "    <tr>\n",
       "      <th>2018-04-20 02:00:00</th>\n",
       "      <td>1.472587</td>\n",
       "    </tr>\n",
       "    <tr>\n",
       "      <th>2018-04-20 03:00:00</th>\n",
       "      <td>1.472587</td>\n",
       "    </tr>\n",
       "    <tr>\n",
       "      <th>2018-04-20 04:00:00</th>\n",
       "      <td>1.472587</td>\n",
       "    </tr>\n",
       "  </tbody>\n",
       "</table>\n",
       "</div>"
      ],
      "text/plain": [
       "Depth_m               Predict\n",
       "Date_Time                    \n",
       "2018-04-20 00:00:00  1.472845\n",
       "2018-04-20 01:00:00  1.472845\n",
       "2018-04-20 02:00:00  1.472587\n",
       "2018-04-20 03:00:00  1.472587\n",
       "2018-04-20 04:00:00  1.472587"
      ]
     },
     "execution_count": 267,
     "metadata": {},
     "output_type": "execute_result"
    }
   ],
   "source": [
    "test_prediction = test_sensor[['Predict']]\n",
    "test_prediction.head()"
   ]
  },
  {
   "cell_type": "code",
   "execution_count": 268,
   "metadata": {},
   "outputs": [],
   "source": [
    "test_prediction=test_prediction.rename(columns={\"Predict\": \"Water_Temp_C\"}).reset_index()"
   ]
  },
  {
   "cell_type": "code",
   "execution_count": 269,
   "metadata": {},
   "outputs": [
    {
     "data": {
      "text/html": [
       "<div>\n",
       "<style scoped>\n",
       "    .dataframe tbody tr th:only-of-type {\n",
       "        vertical-align: middle;\n",
       "    }\n",
       "\n",
       "    .dataframe tbody tr th {\n",
       "        vertical-align: top;\n",
       "    }\n",
       "\n",
       "    .dataframe thead th {\n",
       "        text-align: right;\n",
       "    }\n",
       "</style>\n",
       "<table border=\"1\" class=\"dataframe\">\n",
       "  <thead>\n",
       "    <tr style=\"text-align: right;\">\n",
       "      <th>Depth_m</th>\n",
       "      <th>Date_Time</th>\n",
       "      <th>Water_Temp_C</th>\n",
       "    </tr>\n",
       "  </thead>\n",
       "  <tbody>\n",
       "    <tr>\n",
       "      <th>0</th>\n",
       "      <td>2018-04-20 00:00:00</td>\n",
       "      <td>1.472845</td>\n",
       "    </tr>\n",
       "    <tr>\n",
       "      <th>1</th>\n",
       "      <td>2018-04-20 01:00:00</td>\n",
       "      <td>1.472845</td>\n",
       "    </tr>\n",
       "    <tr>\n",
       "      <th>2</th>\n",
       "      <td>2018-04-20 02:00:00</td>\n",
       "      <td>1.472587</td>\n",
       "    </tr>\n",
       "    <tr>\n",
       "      <th>3</th>\n",
       "      <td>2018-04-20 03:00:00</td>\n",
       "      <td>1.472587</td>\n",
       "    </tr>\n",
       "    <tr>\n",
       "      <th>4</th>\n",
       "      <td>2018-04-20 04:00:00</td>\n",
       "      <td>1.472587</td>\n",
       "    </tr>\n",
       "  </tbody>\n",
       "</table>\n",
       "</div>"
      ],
      "text/plain": [
       "Depth_m            Date_Time  Water_Temp_C\n",
       "0        2018-04-20 00:00:00      1.472845\n",
       "1        2018-04-20 01:00:00      1.472845\n",
       "2        2018-04-20 02:00:00      1.472587\n",
       "3        2018-04-20 03:00:00      1.472587\n",
       "4        2018-04-20 04:00:00      1.472587"
      ]
     },
     "execution_count": 269,
     "metadata": {},
     "output_type": "execute_result"
    }
   ],
   "source": [
    "test_prediction.head()"
   ]
  },
  {
   "cell_type": "code",
   "execution_count": 270,
   "metadata": {},
   "outputs": [
    {
     "data": {
      "text/plain": [
       "(8760, 2)"
      ]
     },
     "execution_count": 270,
     "metadata": {},
     "output_type": "execute_result"
    }
   ],
   "source": [
    "test_prediction.shape"
   ]
  },
  {
   "cell_type": "code",
   "execution_count": 271,
   "metadata": {},
   "outputs": [],
   "source": [
    "test_prediction.to_csv(r'Trout_Prediction_d2.csv', index = False, header=True)\n"
   ]
  },
  {
   "cell_type": "code",
   "execution_count": null,
   "metadata": {},
   "outputs": [],
   "source": []
  },
  {
   "cell_type": "markdown",
   "metadata": {},
   "source": [
    "#### Ridge (best score up to now)"
   ]
  },
  {
   "cell_type": "code",
   "execution_count": 27,
   "metadata": {},
   "outputs": [
    {
     "data": {
      "text/plain": [
       "[0.998445368147906,\n",
       " 0.9965134289386002,\n",
       " 0.9958916045510641,\n",
       " 0.9956191619067618,\n",
       " 0.9939018867279208,\n",
       " 0.9927734928507668,\n",
       " 0.9906735208165726]"
      ]
     },
     "execution_count": 27,
     "metadata": {},
     "output_type": "execute_result"
    }
   ],
   "source": [
    "from sklearn.linear_model import Ridge\n",
    "scores = []\n",
    "for this_alpha in [1e-8,1,5,10,100,200,500]:  # By setting alpha close to 0, `Ridge` behaves similar as `LinearRegression`.\n",
    "    \n",
    "    linridge = Ridge(alpha = this_alpha)\n",
    "    linridge.fit(X_poly, y)\n",
    "    #r2_train = linridge.score(X_train_scaled, y_train)  # %%% Your code: get r2_train by the linridge.score on training data\n",
    "    r2_test = linridge.score(X_poly, y)\n",
    "    scores.append(r2_test)\n",
    "scores\n",
    "    "
   ]
  },
  {
   "cell_type": "code",
   "execution_count": 80,
   "metadata": {},
   "outputs": [],
   "source": [
    "from sklearn.linear_model import Ridge\n",
    "linridge = Ridge(alpha=0.005).fit(X_poly, y)"
   ]
  },
  {
   "cell_type": "code",
   "execution_count": 81,
   "metadata": {},
   "outputs": [
    {
     "data": {
      "text/plain": [
       "0.9970210090589776"
      ]
     },
     "execution_count": 81,
     "metadata": {},
     "output_type": "execute_result"
    }
   ],
   "source": [
    "linridge.score(X_poly, y)"
   ]
  },
  {
   "cell_type": "markdown",
   "metadata": {},
   "source": [
    "#linridge.score(X_test_scaled, y_test)"
   ]
  },
  {
   "cell_type": "code",
   "execution_count": 82,
   "metadata": {},
   "outputs": [
    {
     "data": {
      "text/plain": [
       "array([[1.40256512],\n",
       "       [1.40256512],\n",
       "       [1.40103041],\n",
       "       ...,\n",
       "       [3.58322175],\n",
       "       [3.58470577],\n",
       "       [3.55644243]])"
      ]
     },
     "execution_count": 82,
     "metadata": {},
     "output_type": "execute_result"
    }
   ],
   "source": [
    "y_pred_r = linridge.predict(test_poly)\n",
    "y_pred_r"
   ]
  },
  {
   "cell_type": "markdown",
   "metadata": {},
   "source": [
    "array([[1.48712717],\n",
    "       [1.48712717],\n",
    "       [1.48365151],\n",
    "       ...,\n",
    "       [3.60906095],\n",
    "       [3.60918791],\n",
    "       [3.59701334]])"
   ]
  },
  {
   "cell_type": "code",
   "execution_count": 225,
   "metadata": {},
   "outputs": [
    {
     "data": {
      "text/plain": [
       "0.09349504711053618"
      ]
     },
     "execution_count": 225,
     "metadata": {},
     "output_type": "execute_result"
    }
   ],
   "source": [
    "from sklearn.metrics import mean_squared_error\n",
    "mean_squared_error(y_test,y_pred_r)"
   ]
  },
  {
   "cell_type": "code",
   "execution_count": 83,
   "metadata": {},
   "outputs": [],
   "source": [
    "test_sensor['Water_Temp_C']=y_pred_r"
   ]
  },
  {
   "cell_type": "code",
   "execution_count": 84,
   "metadata": {},
   "outputs": [],
   "source": [
    "test_prediction = test_sensor[['Water_Temp_C']]\n",
    "test_prediction=test_prediction.reset_index()"
   ]
  },
  {
   "cell_type": "code",
   "execution_count": 85,
   "metadata": {},
   "outputs": [
    {
     "data": {
      "text/html": [
       "<div>\n",
       "<style scoped>\n",
       "    .dataframe tbody tr th:only-of-type {\n",
       "        vertical-align: middle;\n",
       "    }\n",
       "\n",
       "    .dataframe tbody tr th {\n",
       "        vertical-align: top;\n",
       "    }\n",
       "\n",
       "    .dataframe thead th {\n",
       "        text-align: right;\n",
       "    }\n",
       "</style>\n",
       "<table border=\"1\" class=\"dataframe\">\n",
       "  <thead>\n",
       "    <tr style=\"text-align: right;\">\n",
       "      <th>Depth_m</th>\n",
       "      <th>Date_Time</th>\n",
       "      <th>Water_Temp_C</th>\n",
       "    </tr>\n",
       "  </thead>\n",
       "  <tbody>\n",
       "    <tr>\n",
       "      <th>0</th>\n",
       "      <td>2018-04-20 00:00:00</td>\n",
       "      <td>1.402565</td>\n",
       "    </tr>\n",
       "    <tr>\n",
       "      <th>1</th>\n",
       "      <td>2018-04-20 01:00:00</td>\n",
       "      <td>1.402565</td>\n",
       "    </tr>\n",
       "    <tr>\n",
       "      <th>2</th>\n",
       "      <td>2018-04-20 02:00:00</td>\n",
       "      <td>1.401030</td>\n",
       "    </tr>\n",
       "    <tr>\n",
       "      <th>3</th>\n",
       "      <td>2018-04-20 03:00:00</td>\n",
       "      <td>1.401030</td>\n",
       "    </tr>\n",
       "    <tr>\n",
       "      <th>4</th>\n",
       "      <td>2018-04-20 04:00:00</td>\n",
       "      <td>1.401030</td>\n",
       "    </tr>\n",
       "  </tbody>\n",
       "</table>\n",
       "</div>"
      ],
      "text/plain": [
       "Depth_m            Date_Time  Water_Temp_C\n",
       "0        2018-04-20 00:00:00      1.402565\n",
       "1        2018-04-20 01:00:00      1.402565\n",
       "2        2018-04-20 02:00:00      1.401030\n",
       "3        2018-04-20 03:00:00      1.401030\n",
       "4        2018-04-20 04:00:00      1.401030"
      ]
     },
     "execution_count": 85,
     "metadata": {},
     "output_type": "execute_result"
    }
   ],
   "source": [
    "test_prediction.head()"
   ]
  },
  {
   "cell_type": "code",
   "execution_count": 86,
   "metadata": {},
   "outputs": [],
   "source": [
    "test_prediction.to_csv(r'Trout_Prediction_d3_0005.csv', index = False, header=True)"
   ]
  },
  {
   "cell_type": "code",
   "execution_count": null,
   "metadata": {},
   "outputs": [],
   "source": []
  },
  {
   "cell_type": "code",
   "execution_count": null,
   "metadata": {},
   "outputs": [],
   "source": []
  },
  {
   "cell_type": "code",
   "execution_count": null,
   "metadata": {},
   "outputs": [],
   "source": []
  },
  {
   "cell_type": "code",
   "execution_count": null,
   "metadata": {},
   "outputs": [],
   "source": []
  },
  {
   "cell_type": "markdown",
   "metadata": {},
   "source": [
    "Lasso"
   ]
  },
  {
   "cell_type": "code",
   "execution_count": 111,
   "metadata": {},
   "outputs": [],
   "source": [
    "from sklearn.linear_model import Lasso\n",
    "lasso = Lasso().fit(X_poly, y)"
   ]
  },
  {
   "cell_type": "code",
   "execution_count": 112,
   "metadata": {},
   "outputs": [
    {
     "data": {
      "text/plain": [
       "0.0"
      ]
     },
     "execution_count": 112,
     "metadata": {},
     "output_type": "execute_result"
    }
   ],
   "source": [
    "lasso.score(X_poly, y)"
   ]
  },
  {
   "cell_type": "code",
   "execution_count": 228,
   "metadata": {},
   "outputs": [
    {
     "data": {
      "text/plain": [
       "-3.028086815959341e-05"
      ]
     },
     "execution_count": 228,
     "metadata": {},
     "output_type": "execute_result"
    }
   ],
   "source": [
    "lasso.score(X_test_scaled, y_test)"
   ]
  },
  {
   "cell_type": "code",
   "execution_count": 113,
   "metadata": {},
   "outputs": [
    {
     "data": {
      "text/plain": [
       "array([5.06233878, 5.06233878, 5.06233878, ..., 5.06233878, 5.06233878,\n",
       "       5.06233878])"
      ]
     },
     "execution_count": 113,
     "metadata": {},
     "output_type": "execute_result"
    }
   ],
   "source": [
    "y_pred_l = lasso.predict(test_poly)\n",
    "y_pred_l"
   ]
  },
  {
   "cell_type": "markdown",
   "metadata": {},
   "source": [
    "https://scikit-learn.org/stable/modules/svm.html\n",
    "\n",
    "https://scikit-learn.org/stable/modules/generated/sklearn.metrics.mean_squared_error.html"
   ]
  },
  {
   "cell_type": "code",
   "execution_count": 48,
   "metadata": {},
   "outputs": [
    {
     "data": {
      "text/plain": [
       "0.9976931829841948"
      ]
     },
     "execution_count": 48,
     "metadata": {},
     "output_type": "execute_result"
    }
   ],
   "source": [
    "from sklearn.linear_model import LinearRegression\n",
    "linreg = LinearRegression().fit(X_poly, y)\n",
    "linreg.score(X_poly, y)"
   ]
  },
  {
   "cell_type": "code",
   "execution_count": 273,
   "metadata": {},
   "outputs": [
    {
     "data": {
      "text/plain": [
       "0.9908624468936779"
      ]
     },
     "execution_count": 273,
     "metadata": {},
     "output_type": "execute_result"
    }
   ],
   "source": [
    "linreg.score(X_test_scaled, y_test)"
   ]
  },
  {
   "cell_type": "code",
   "execution_count": 49,
   "metadata": {},
   "outputs": [],
   "source": [
    "y_pred_li = linreg.predict(test_poly)"
   ]
  },
  {
   "cell_type": "code",
   "execution_count": 50,
   "metadata": {},
   "outputs": [
    {
     "data": {
      "text/plain": [
       "array([[1.38626942],\n",
       "       [1.38626942],\n",
       "       [1.37477246],\n",
       "       ...,\n",
       "       [3.58135436],\n",
       "       [3.58048173],\n",
       "       [3.56865624]])"
      ]
     },
     "execution_count": 50,
     "metadata": {},
     "output_type": "execute_result"
    }
   ],
   "source": [
    "y_pred_li"
   ]
  },
  {
   "cell_type": "code",
   "execution_count": 51,
   "metadata": {},
   "outputs": [],
   "source": [
    "test_sensor['Water_Temp_C']=y_pred_li"
   ]
  },
  {
   "cell_type": "code",
   "execution_count": 52,
   "metadata": {},
   "outputs": [],
   "source": [
    "test_prediction = test_sensor[['Water_Temp_C']]\n",
    "test_prediction=test_prediction.reset_index()"
   ]
  },
  {
   "cell_type": "code",
   "execution_count": 53,
   "metadata": {},
   "outputs": [
    {
     "data": {
      "text/html": [
       "<div>\n",
       "<style scoped>\n",
       "    .dataframe tbody tr th:only-of-type {\n",
       "        vertical-align: middle;\n",
       "    }\n",
       "\n",
       "    .dataframe tbody tr th {\n",
       "        vertical-align: top;\n",
       "    }\n",
       "\n",
       "    .dataframe thead th {\n",
       "        text-align: right;\n",
       "    }\n",
       "</style>\n",
       "<table border=\"1\" class=\"dataframe\">\n",
       "  <thead>\n",
       "    <tr style=\"text-align: right;\">\n",
       "      <th>Depth_m</th>\n",
       "      <th>Date_Time</th>\n",
       "      <th>Water_Temp_C</th>\n",
       "    </tr>\n",
       "  </thead>\n",
       "  <tbody>\n",
       "    <tr>\n",
       "      <th>0</th>\n",
       "      <td>2018-04-20 00:00:00</td>\n",
       "      <td>1.386269</td>\n",
       "    </tr>\n",
       "    <tr>\n",
       "      <th>1</th>\n",
       "      <td>2018-04-20 01:00:00</td>\n",
       "      <td>1.386269</td>\n",
       "    </tr>\n",
       "    <tr>\n",
       "      <th>2</th>\n",
       "      <td>2018-04-20 02:00:00</td>\n",
       "      <td>1.374772</td>\n",
       "    </tr>\n",
       "    <tr>\n",
       "      <th>3</th>\n",
       "      <td>2018-04-20 03:00:00</td>\n",
       "      <td>1.374772</td>\n",
       "    </tr>\n",
       "    <tr>\n",
       "      <th>4</th>\n",
       "      <td>2018-04-20 04:00:00</td>\n",
       "      <td>1.374772</td>\n",
       "    </tr>\n",
       "  </tbody>\n",
       "</table>\n",
       "</div>"
      ],
      "text/plain": [
       "Depth_m            Date_Time  Water_Temp_C\n",
       "0        2018-04-20 00:00:00      1.386269\n",
       "1        2018-04-20 01:00:00      1.386269\n",
       "2        2018-04-20 02:00:00      1.374772\n",
       "3        2018-04-20 03:00:00      1.374772\n",
       "4        2018-04-20 04:00:00      1.374772"
      ]
     },
     "execution_count": 53,
     "metadata": {},
     "output_type": "execute_result"
    }
   ],
   "source": [
    "test_prediction.head()"
   ]
  },
  {
   "cell_type": "code",
   "execution_count": 54,
   "metadata": {},
   "outputs": [],
   "source": [
    "test_prediction.to_csv(r'Trout_Prediction_d3_l.csv', index = False, header=True)"
   ]
  },
  {
   "cell_type": "code",
   "execution_count": null,
   "metadata": {},
   "outputs": [],
   "source": []
  }
 ],
 "metadata": {
  "kernelspec": {
   "display_name": "Python 3",
   "language": "python",
   "name": "python3"
  },
  "language_info": {
   "codemirror_mode": {
    "name": "ipython",
    "version": 3
   },
   "file_extension": ".py",
   "mimetype": "text/x-python",
   "name": "python",
   "nbconvert_exporter": "python",
   "pygments_lexer": "ipython3",
   "version": "3.7.4"
  }
 },
 "nbformat": 4,
 "nbformat_minor": 2
}
